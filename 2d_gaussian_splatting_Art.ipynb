{
  "cells": [
    {
      "cell_type": "markdown",
      "metadata": {
        "id": "view-in-github",
        "colab_type": "text"
      },
      "source": [
        "<a href=\"https://colab.research.google.com/github/onetwohour/2d-gaussian-splatting-Art/blob/main/2d_gaussian_splatting_Art.ipynb\" target=\"_parent\"><img src=\"https://colab.research.google.com/assets/colab-badge.svg\" alt=\"Open In Colab\"/></a>"
      ]
    },
    {
      "cell_type": "markdown",
      "metadata": {
        "id": "OrNcqJs8x464"
      },
      "source": [
        "Before proceeding, please ensure that your notebook is connected to a GPU runtime."
      ]
    },
    {
      "cell_type": "code",
      "execution_count": 1,
      "metadata": {
        "colab": {
          "base_uri": "https://localhost:8080/"
        },
        "id": "Gp_mHmNfY8OH",
        "outputId": "4e887e9f-4832-43e7-f8a4-d407f98f87e1"
      },
      "outputs": [
        {
          "output_type": "stream",
          "name": "stdout",
          "text": [
            "Mounted at /content/drive\n"
          ]
        }
      ],
      "source": [
        "from google.colab import drive, output\n",
        "drive.mount('/content/drive')"
      ]
    },
    {
      "cell_type": "code",
      "execution_count": 2,
      "metadata": {
        "id": "Iu5nIIrEY1_n"
      },
      "outputs": [],
      "source": [
        "%cd /content\n",
        "!git clone https://github.com/onetwohour/2d-gaussian-splatting-Art.git --recursive\n",
        "!pip install -q plyfile\n",
        "output.clear()"
      ]
    },
    {
      "cell_type": "code",
      "execution_count": 3,
      "metadata": {
        "colab": {
          "base_uri": "https://localhost:8080/"
        },
        "id": "P-XjteusY6YB",
        "outputId": "69d8a303-c492-498b-ae19-be6b38a7129f"
      },
      "outputs": [
        {
          "output_type": "stream",
          "name": "stdout",
          "text": [
            "/content/2d-gaussian-splatting-Art\n"
          ]
        }
      ],
      "source": [
        "%cd /content/2d-gaussian-splatting-Art/"
      ]
    },
    {
      "cell_type": "code",
      "execution_count": 4,
      "metadata": {
        "id": "VC9U4Lt1Y7o1"
      },
      "outputs": [],
      "source": [
        "import os\n",
        "os.environ['CUDA_HOME'] = '/usr/local/cuda' #ensure that the CUDA path is correct\n",
        "!pip install -q ninja\n",
        "!pip install -q submodules/simple-knn\n",
        "!pip install -q submodules/diff-surfel-rasterization\n",
        "!pip install -q ftfy regex tqdm\n",
        "!pip install -q git+https://github.com/openai/CLIP.git\n",
        "!pip install -q -r requirements.txt\n",
        "output.clear()"
      ]
    },
    {
      "cell_type": "markdown",
      "metadata": {
        "id": "aklgj8llF7wH"
      },
      "source": [
        "For Colab to access your COLMAP processed data, please copy the COLMAP output to your Google Drive and enter the full COLMAP source path (e.g. /content/drive/MyDrive/COLMAP_out)"
      ]
    },
    {
      "cell_type": "code",
      "execution_count": null,
      "metadata": {
        "id": "UhHKVQ-Smo43"
      },
      "outputs": [],
      "source": [
        "COLMAP_PATH = str(input('Please enter COLMAP output path:'))"
      ]
    },
    {
      "cell_type": "code",
      "execution_count": null,
      "metadata": {
        "id": "3GxTJBDKZ9xW"
      },
      "outputs": [],
      "source": [
        "!python train.py -s $COLMAP_PATH"
      ]
    },
    {
      "cell_type": "code",
      "execution_count": null,
      "metadata": {
        "id": "LcQCbC4c2cCH"
      },
      "outputs": [],
      "source": [
        "!python style_train.py -s $COLMAP_PATH --config configs/vangogh.yaml --start_checkpoint \"/content/drive/MyDrive/b7c33a94-1/chkpnt30000.pth\""
      ]
    },
    {
      "cell_type": "markdown",
      "metadata": {
        "id": "6Lld9poGx469"
      },
      "source": [
        "Training is complete, to use render.py, please enter the desired model_path located in your Drive: /content/drive/MyDrive/2d_gaussian_splatting/output/{10 digit UUID}: (e.g: /content/drive/MyDrive/2d_gaussian_splatting/output/8d812792-1)"
      ]
    },
    {
      "cell_type": "code",
      "execution_count": null,
      "metadata": {
        "colab": {
          "base_uri": "https://localhost:8080/"
        },
        "id": "vtJuJY1qx469",
        "outputId": "fd1c721c-7c97-4799-8a23-57dcf9c0573b"
      },
      "outputs": [
        {
          "name": "stdout",
          "output_type": "stream",
          "text": [
            "Please enter the model path:/content/2d-gaussian-splatting-Art/output/83a06ace-7\n"
          ]
        }
      ],
      "source": [
        "MODEL_PATH = str(input('Please enter the model path:'))"
      ]
    },
    {
      "cell_type": "code",
      "execution_count": null,
      "metadata": {
        "id": "T2inVQ3K49lS"
      },
      "outputs": [],
      "source": [
        "!python render.py -m $MODEL_PATH -s $COLMAP_PATH"
      ]
    },
    {
      "cell_type": "markdown",
      "metadata": {
        "id": "u7gODQwox46-"
      },
      "source": [
        "Training and rendering is complete, please navigate to your drive and see the model outputs under the directory \"2d_gaussian_splatting/\"."
      ]
    }
  ],
  "metadata": {
    "accelerator": "GPU",
    "colab": {
      "gpuType": "A100",
      "provenance": [],
      "machine_shape": "hm",
      "include_colab_link": true
    },
    "kernelspec": {
      "display_name": "Python 3",
      "name": "python3"
    },
    "language_info": {
      "name": "python"
    }
  },
  "nbformat": 4,
  "nbformat_minor": 0
}